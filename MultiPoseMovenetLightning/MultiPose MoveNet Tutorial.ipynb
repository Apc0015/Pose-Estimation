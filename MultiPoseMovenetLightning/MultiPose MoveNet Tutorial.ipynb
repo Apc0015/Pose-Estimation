{
 "cells": [
  {
   "cell_type": "markdown",
   "metadata": {},
   "source": [
    "# 0. Install and Import Dependencies"
   ]
  },
  {
   "cell_type": "code",
   "execution_count": 16,
   "metadata": {},
   "outputs": [],
   "source": [
    "import tensorflow as tf\n",
    "import tensorflow_hub as hub\n",
    "import cv2\n",
    "from matplotlib import pyplot as plt\n",
    "import numpy as np"
   ]
  },
  {
   "cell_type": "code",
   "execution_count": 17,
   "metadata": {},
   "outputs": [],
   "source": [
    "# Optional if you are using a GPU\n",
    "gpus = tf.config.experimental.list_physical_devices('GPU')\n",
    "for gpu in gpus:\n",
    "    tf.config.experimental.set_memory_growth(gpu, True)"
   ]
  },
  {
   "cell_type": "markdown",
   "metadata": {},
   "source": [
    "# 1. Load Model"
   ]
  },
  {
   "cell_type": "code",
   "execution_count": 18,
   "metadata": {},
   "outputs": [],
   "source": [
    "model = hub.load('https://tfhub.dev/google/movenet/multipose/lightning/1')\n",
    "movenet = model.signatures['serving_default']"
   ]
  },
  {
   "cell_type": "markdown",
   "metadata": {},
   "source": [
    "# 2. Make Detections"
   ]
  },
  {
   "cell_type": "code",
   "execution_count": 26,
   "metadata": {},
   "outputs": [],
   "source": [
    "cap = cv2.VideoCapture('novak.mp4')\n",
    "while cap.isOpened():\n",
    "    ret, frame = cap.read()\n",
    "    \n",
    "    # Resize image\n",
    "    img = frame.copy()\n",
    "    img = tf.image.resize_with_pad(tf.expand_dims(img, axis=0), 384,640)\n",
    "    input_img = tf.cast(img, dtype=tf.int32)\n",
    "    \n",
    "    # Detection section\n",
    "    results = movenet(input_img)\n",
    "    keypoints_with_scores = results['output_0'].numpy()[:,:,:51].reshape((6,17,3))\n",
    "    \n",
    "    # Render keypoints \n",
    "    loop_through_people(frame, keypoints_with_scores, EDGES, 0.1)\n",
    "    \n",
    "    cv2.imshow('Movenet Multipose', frame)\n",
    "    \n",
    "    if cv2.waitKey(10) & 0xFF==ord('q'):\n",
    "        break\n",
    "cap.release()\n",
    "cv2.destroyAllWindows()"
   ]
  },
  {
   "cell_type": "code",
   "execution_count": null,
   "metadata": {},
   "outputs": [
    {
     "data": {
      "text/plain": [
       "array([[[7.1168280e-01, 5.8314019e-01, 3.1078106e-02],\n",
       "        [7.1184385e-01, 5.8111113e-01, 3.4281317e-02],\n",
       "        [7.1153420e-01, 6.0230774e-01, 7.9845833e-03],\n",
       "        [7.3538387e-01, 5.8000135e-01, 5.6709841e-02],\n",
       "        [7.5665921e-01, 6.2307823e-01, 3.1508242e-03],\n",
       "        [7.5044984e-01, 5.3343135e-01, 2.1908937e-02],\n",
       "        [7.5681061e-01, 6.4546603e-01, 1.6382450e-03],\n",
       "        [7.5208133e-01, 4.8462430e-01, 1.7035991e-02],\n",
       "        [7.5996935e-01, 6.4332259e-01, 7.0459116e-03],\n",
       "        [7.2459477e-01, 4.8232728e-01, 1.0579231e-02],\n",
       "        [7.1971333e-01, 6.2511826e-01, 1.6672703e-02],\n",
       "        [7.7769703e-01, 5.2314067e-01, 1.0262468e-01],\n",
       "        [7.7741235e-01, 5.8498234e-01, 2.0535205e-02],\n",
       "        [7.8522575e-01, 4.7247329e-01, 1.1155416e-02],\n",
       "        [7.8368688e-01, 5.5127513e-01, 6.0130600e-03],\n",
       "        [7.9783291e-01, 4.7685885e-01, 6.6279843e-03],\n",
       "        [7.8551501e-01, 5.3394407e-01, 2.0842087e-02]],\n",
       "\n",
       "       [[6.7897123e-01, 1.6260698e-01, 1.6760480e-02],\n",
       "        [6.8101716e-01, 1.6132025e-01, 2.0635800e-02],\n",
       "        [6.9186020e-01, 1.8132921e-01, 6.3340934e-03],\n",
       "        [7.0480078e-01, 1.5457989e-01, 3.0127756e-02],\n",
       "        [7.0414370e-01, 2.0860553e-01, 3.7744651e-03],\n",
       "        [7.3331273e-01, 1.1568182e-01, 1.8989826e-02],\n",
       "        [7.2038484e-01, 2.2374849e-01, 3.3016428e-03],\n",
       "        [7.0999163e-01, 7.4236445e-02, 1.6073467e-02],\n",
       "        [7.0180309e-01, 2.1105683e-01, 1.4351541e-02],\n",
       "        [6.8883479e-01, 7.4166030e-02, 1.4893799e-02],\n",
       "        [6.7026252e-01, 1.9188420e-01, 2.2464706e-02],\n",
       "        [7.5944769e-01, 1.0384772e-01, 4.9172215e-02],\n",
       "        [7.4413222e-01, 1.6571189e-01, 4.2649407e-02],\n",
       "        [7.5304425e-01, 7.6441191e-02, 1.8743768e-02],\n",
       "        [7.5690001e-01, 1.3148615e-01, 6.2207603e-03],\n",
       "        [7.6321286e-01, 7.0024185e-02, 1.1692998e-02],\n",
       "        [7.7833140e-01, 1.2804821e-01, 1.1100603e-02]],\n",
       "\n",
       "       [[7.5220859e-01, 2.6273739e-01, 4.6768081e-03],\n",
       "        [7.5276196e-01, 2.7415097e-01, 7.3854015e-03],\n",
       "        [7.5328708e-01, 2.8707597e-01, 2.5121397e-03],\n",
       "        [7.6443565e-01, 2.7422687e-01, 8.7552033e-03],\n",
       "        [7.7514029e-01, 3.1999418e-01, 1.9479758e-03],\n",
       "        [7.8983372e-01, 2.4922489e-01, 1.8795766e-02],\n",
       "        [7.9011250e-01, 3.2915649e-01, 2.6702506e-03],\n",
       "        [7.8580260e-01, 2.0948477e-01, 1.5266875e-02],\n",
       "        [7.8635097e-01, 3.1727478e-01, 1.7595449e-02],\n",
       "        [7.7976990e-01, 1.9871168e-01, 7.7510658e-03],\n",
       "        [7.6897705e-01, 3.0552194e-01, 1.9379454e-02],\n",
       "        [8.1479782e-01, 2.2699952e-01, 4.8165385e-02],\n",
       "        [8.1656039e-01, 2.7288350e-01, 4.8926443e-02],\n",
       "        [8.0160081e-01, 1.8288429e-01, 6.7641623e-03],\n",
       "        [8.1290120e-01, 2.4223173e-01, 5.8703735e-03],\n",
       "        [8.3109039e-01, 1.8745710e-01, 4.3475470e-03],\n",
       "        [8.1883448e-01, 2.1417692e-01, 1.0026915e-02]],\n",
       "\n",
       "       [[3.2645017e-01, 1.0512928e-01, 2.0383722e-03],\n",
       "        [3.3255583e-01, 1.1000067e-01, 2.9807792e-03],\n",
       "        [3.2300836e-01, 1.1427244e-01, 1.4861861e-03],\n",
       "        [3.6279708e-01, 1.0276603e-01, 3.5045086e-03],\n",
       "        [3.4433776e-01, 1.1181464e-01, 2.4489861e-03],\n",
       "        [3.6262056e-01, 8.5597403e-02, 3.6035390e-03],\n",
       "        [3.5077208e-01, 1.2041270e-01, 5.2524004e-03],\n",
       "        [2.9719087e-01, 1.5291137e-02, 5.1572040e-04],\n",
       "        [3.0773613e-01, 1.1533048e-01, 9.0993458e-04],\n",
       "        [2.4395028e-01, 3.0437758e-02, 2.6900407e-03],\n",
       "        [2.6064423e-01, 1.1234885e-01, 2.7465273e-03],\n",
       "        [4.1248149e-01, 2.6638193e-02, 3.7253865e-03],\n",
       "        [4.0693927e-01, 8.3543614e-02, 9.1500711e-03],\n",
       "        [4.5251286e-01, 7.6492816e-02, 6.8416391e-03],\n",
       "        [4.4215903e-01, 8.2921587e-02, 3.4065868e-03],\n",
       "        [5.8263421e-01, 8.7771870e-02, 4.0179156e-03],\n",
       "        [5.7159013e-01, 9.0420000e-02, 5.7940544e-03]],\n",
       "\n",
       "       [[7.8524423e-01, 8.4960932e-01, 7.2974907e-03],\n",
       "        [7.7878755e-01, 8.4890407e-01, 1.1559053e-02],\n",
       "        [7.8668606e-01, 8.5859185e-01, 6.0815364e-03],\n",
       "        [8.0849832e-01, 8.4879732e-01, 1.0137145e-02],\n",
       "        [8.0415243e-01, 8.7012810e-01, 1.0870256e-02],\n",
       "        [8.2067436e-01, 8.3227205e-01, 2.2004062e-02],\n",
       "        [8.0510485e-01, 8.7667876e-01, 1.5250395e-02],\n",
       "        [8.1239533e-01, 7.7738363e-01, 6.3626021e-03],\n",
       "        [8.1554669e-01, 8.6780465e-01, 1.0174031e-02],\n",
       "        [8.1100535e-01, 7.7694887e-01, 2.9647886e-03],\n",
       "        [7.9831445e-01, 8.6557055e-01, 9.3274433e-03],\n",
       "        [8.2146800e-01, 8.1476784e-01, 4.6306469e-02],\n",
       "        [8.2361001e-01, 8.3634418e-01, 4.9040817e-02],\n",
       "        [8.2113051e-01, 7.9027313e-01, 5.3938502e-03],\n",
       "        [8.2037783e-01, 8.3559561e-01, 6.6554244e-03],\n",
       "        [8.7492120e-01, 7.8607965e-01, 3.4825539e-03],\n",
       "        [8.7272501e-01, 8.0806202e-01, 6.4260578e-03]],\n",
       "\n",
       "       [[5.8534849e-01, 3.2112405e-02, 9.4485581e-03],\n",
       "        [5.8606207e-01, 3.0658379e-02, 9.1141229e-03],\n",
       "        [5.8613092e-01, 3.1361412e-02, 6.0641356e-03],\n",
       "        [5.9050465e-01, 2.8382832e-02, 6.5960144e-03],\n",
       "        [5.9035552e-01, 3.1426489e-02, 7.2216541e-03],\n",
       "        [6.1393607e-01, 2.4304442e-02, 1.4638460e-02],\n",
       "        [6.1960840e-01, 3.0854091e-02, 1.0152460e-02],\n",
       "        [6.3068759e-01, 1.2916085e-02, 1.4778013e-02],\n",
       "        [6.2806320e-01, 1.6425846e-02, 9.6829785e-03],\n",
       "        [6.1079025e-01, 1.2122176e-02, 6.6570048e-03],\n",
       "        [6.2032986e-01, 3.1085519e-02, 9.0574492e-03],\n",
       "        [6.7327899e-01, 2.7635086e-02, 2.5975224e-02],\n",
       "        [6.6990268e-01, 3.1189794e-02, 1.8302754e-02],\n",
       "        [6.9460481e-01, 2.5342537e-02, 1.7371746e-02],\n",
       "        [6.9405937e-01, 2.9720798e-02, 1.4564964e-02],\n",
       "        [7.6378989e-01, 3.3024780e-02, 8.7407185e-03],\n",
       "        [7.4264944e-01, 3.4975536e-02, 6.9603985e-03]]], dtype=float32)"
      ]
     },
     "execution_count": 20,
     "metadata": {},
     "output_type": "execute_result"
    }
   ],
   "source": [
    "keypoints_with_scores"
   ]
  },
  {
   "cell_type": "code",
   "execution_count": null,
   "metadata": {},
   "outputs": [
    {
     "data": {
      "text/plain": [
       "384"
      ]
     },
     "execution_count": 21,
     "metadata": {},
     "output_type": "execute_result"
    }
   ],
   "source": [
    "32*12"
   ]
  },
  {
   "cell_type": "code",
   "execution_count": null,
   "metadata": {},
   "outputs": [],
   "source": [
    "# Function to loop through each person detected and render\n",
    "def loop_through_people(frame, keypoints_with_scores, edges, confidence_threshold):\n",
    "    for person in keypoints_with_scores:\n",
    "        draw_connections(frame, person, edges, confidence_threshold)\n",
    "        draw_keypoints(frame, person, confidence_threshold)"
   ]
  },
  {
   "cell_type": "markdown",
   "metadata": {},
   "source": [
    "# 3. Draw Keypoints"
   ]
  },
  {
   "cell_type": "code",
   "execution_count": null,
   "metadata": {},
   "outputs": [],
   "source": [
    "def draw_keypoints(frame, keypoints, confidence_threshold):\n",
    "    y, x, c = frame.shape\n",
    "    shaped = np.squeeze(np.multiply(keypoints, [y,x,1]))\n",
    "    \n",
    "    for kp in shaped:\n",
    "        ky, kx, kp_conf = kp\n",
    "        if kp_conf > confidence_threshold:\n",
    "            cv2.circle(frame, (int(kx), int(ky)), 6, (0,255,0), -1)"
   ]
  },
  {
   "cell_type": "markdown",
   "metadata": {},
   "source": [
    "# 4. Draw Edges"
   ]
  },
  {
   "cell_type": "code",
   "execution_count": null,
   "metadata": {},
   "outputs": [],
   "source": [
    "EDGES = {\n",
    "    (0, 1): 'm',\n",
    "    (0, 2): 'c',\n",
    "    (1, 3): 'm',\n",
    "    (2, 4): 'c',\n",
    "    (0, 5): 'm',\n",
    "    (0, 6): 'c',\n",
    "    (5, 7): 'm',\n",
    "    (7, 9): 'm',\n",
    "    (6, 8): 'c',\n",
    "    (8, 10): 'c',\n",
    "    (5, 6): 'y',\n",
    "    (5, 11): 'm',\n",
    "    (6, 12): 'c',\n",
    "    (11, 12): 'y',\n",
    "    (11, 13): 'm',\n",
    "    (13, 15): 'm',\n",
    "    (12, 14): 'c',\n",
    "    (14, 16): 'c'\n",
    "}"
   ]
  },
  {
   "cell_type": "code",
   "execution_count": null,
   "metadata": {},
   "outputs": [],
   "source": [
    "def draw_connections(frame, keypoints, edges, confidence_threshold):\n",
    "    y, x, c = frame.shape\n",
    "    shaped = np.squeeze(np.multiply(keypoints, [y,x,1]))\n",
    "    \n",
    "    for edge, color in edges.items():\n",
    "        p1, p2 = edge\n",
    "        y1, x1, c1 = shaped[p1]\n",
    "        y2, x2, c2 = shaped[p2]\n",
    "        \n",
    "        if (c1 > confidence_threshold) & (c2 > confidence_threshold):      \n",
    "            cv2.line(frame, (int(x1), int(y1)), (int(x2), int(y2)), (0,0,255), 4)"
   ]
  }
 ],
 "metadata": {
  "interpreter": {
   "hash": "217509123064b292071320f7b5e669afbd8759a6fefc5559fcc350c410333f42"
  },
  "kernelspec": {
   "display_name": "multiperson",
   "language": "python",
   "name": "python3"
  },
  "language_info": {
   "codemirror_mode": {
    "name": "ipython",
    "version": 3
   },
   "file_extension": ".py",
   "mimetype": "text/x-python",
   "name": "python",
   "nbconvert_exporter": "python",
   "pygments_lexer": "ipython3",
   "version": "3.10.2"
  }
 },
 "nbformat": 4,
 "nbformat_minor": 2
}
